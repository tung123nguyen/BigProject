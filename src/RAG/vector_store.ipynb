{
 "cells": [
  {
   "cell_type": "markdown",
   "id": "e6263dab",
   "metadata": {},
   "source": [
    "# ChromaDB"
   ]
  },
  {
   "cell_type": "code",
   "execution_count": 32,
   "id": "91d92b24",
   "metadata": {},
   "outputs": [
    {
     "data": {
      "text/plain": [
       "True"
      ]
     },
     "execution_count": 32,
     "metadata": {},
     "output_type": "execute_result"
    }
   ],
   "source": [
    "from dotenv import load_dotenv\n",
    "load_dotenv()"
   ]
  },
  {
   "cell_type": "code",
   "execution_count": 34,
   "id": "bcfafdb2",
   "metadata": {},
   "outputs": [],
   "source": [
    "from langchain.chat_models import init_chat_model"
   ]
  },
  {
   "cell_type": "code",
   "execution_count": 35,
   "id": "5dcb450a",
   "metadata": {},
   "outputs": [],
   "source": [
    "llm = init_chat_model(\n",
    "    model=\"openai/gpt-oss-120b\",\n",
    "    model_provider=\"groq\"\n",
    ")"
   ]
  },
  {
   "cell_type": "code",
   "execution_count": 36,
   "id": "be5d349d",
   "metadata": {},
   "outputs": [
    {
     "name": "stdout",
     "output_type": "stream",
     "text": [
      "Hello! How can I help you today?\n"
     ]
    }
   ],
   "source": [
    "print(llm.invoke(\"hello\").content)"
   ]
  },
  {
   "cell_type": "code",
   "execution_count": 37,
   "id": "f75a792a",
   "metadata": {},
   "outputs": [],
   "source": [
    "from langchain_community.vectorstores import Chroma\n",
    "from langchain_community.document_loaders import PyPDFLoader, DirectoryLoader\n",
    "from langchain_text_splitters import RecursiveCharacterTextSplitter\n",
    "from langchain_huggingface import HuggingFaceEmbeddings"
   ]
  },
  {
   "cell_type": "markdown",
   "id": "beee8512",
   "metadata": {},
   "source": [
    "# Loader"
   ]
  },
  {
   "cell_type": "code",
   "execution_count": 41,
   "id": "48b022b3",
   "metadata": {},
   "outputs": [],
   "source": [
    "loader = DirectoryLoader(\n",
    "    path=\"../../data/pdf\",\n",
    "    glob=\"*.pdf\",\n",
    "    loader_cls=PyPDFLoader\n",
    ")"
   ]
  },
  {
   "cell_type": "code",
   "execution_count": 42,
   "id": "459de3d1",
   "metadata": {},
   "outputs": [],
   "source": [
    "docs = loader.load()"
   ]
  },
  {
   "cell_type": "markdown",
   "id": "751d376e",
   "metadata": {},
   "source": [
    "# Splitter"
   ]
  },
  {
   "cell_type": "code",
   "execution_count": 43,
   "id": "51930e5d",
   "metadata": {},
   "outputs": [],
   "source": [
    "splitter = RecursiveCharacterTextSplitter(\n",
    "    separators=[\"/n/n\", \"/n\", \" \", \"\"],\n",
    "    chunk_size = 500,\n",
    "    chunk_overlap = 50\n",
    ")"
   ]
  },
  {
   "cell_type": "code",
   "execution_count": 44,
   "id": "1254254f",
   "metadata": {},
   "outputs": [],
   "source": [
    "chunks = splitter.split_documents(docs)"
   ]
  },
  {
   "cell_type": "markdown",
   "id": "ad62d76e",
   "metadata": {},
   "source": [
    "# Vector Store"
   ]
  },
  {
   "cell_type": "code",
   "execution_count": 46,
   "id": "e535f30a",
   "metadata": {},
   "outputs": [],
   "source": [
    "embeddings = HuggingFaceEmbeddings(\n",
    "    model = \"sentence-transformers/all-MiniLM-L6-v2\"\n",
    ")"
   ]
  },
  {
   "cell_type": "code",
   "execution_count": 53,
   "id": "e5abf857",
   "metadata": {},
   "outputs": [],
   "source": [
    "vector_store = Chroma.from_documents(\n",
    "    documents = chunks,\n",
    "    embedding=embeddings,\n",
    "    collection_name=\"example_collection\",\n",
    "    persist_directory=\"./chroma_langchain_db\",  # Where to save data locally, remove if not necessary\n",
    ")"
   ]
  },
  {
   "cell_type": "code",
   "execution_count": 56,
   "id": "3fe600c9",
   "metadata": {},
   "outputs": [
    {
     "data": {
      "text/plain": [
       "Document(metadata={'source': '..\\\\..\\\\data\\\\pdf\\\\2510.18212v2.pdf', 'total_pages': 57, 'ptex.fullbanner': 'This is pdfTeX, Version 3.141592653-2.6-1.40.28 (TeX Live 2025) kpathsea version 6.4.1', 'author': 'Dan Hendrycks; Dawn Song; Christian Szegedy; Honglak Lee; Yarin Gal; Erik Brynjolfsson; Sharon Li; Andy Zou; Lionel Levine; Bo Han; Jie Fu; Ziwei Liu; Jinwoo Shin; Kimin Lee; Mantas Mazeika; Long Phan; George Ingebretsen; Adam Khoja; Cihang Xie; Olawale Salaudeen; Matthias Hein; Kevin Zhao; Alexander Pan; David Duvenaud; Bo Li; Steve Omohundro; Gabriel Alfour; Max Tegmark; Kevin McGrew; Gary Marcus; Jaan Tallinn; Eric Schmidt; Yoshua Bengio', 'page': 1, 'producer': 'pikepdf 8.15.1', 'arxivid': 'https://arxiv.org/abs/2510.18212v2', 'doi': 'https://doi.org/10.48550/arXiv.2510.18212', 'creator': 'arXiv GenPDF (tex2pdf:e76afa9)', 'license': 'http://creativecommons.org/licenses/by/4.0/', 'trapped': '/False', 'page_label': '2', 'creationdate': '', 'title': 'A Definition of AGI'}, page_content='AGI is an AI that can match or exceed the cognitive versatility and proficiency\\nof a well-educated adult.\\nThis definition emphasizes that general intelligence requires not just specialized performance in\\nnarrow domains, but the breadth (versatility) and depth (proficiency) of skills that characterize human\\ncognition.\\nTo operationalize this definition, we must look to the only existing example of general intelligence:\\nhumans. Human cognition is not a monolithic capability; it is a complex')"
      ]
     },
     "execution_count": 56,
     "metadata": {},
     "output_type": "execute_result"
    }
   ],
   "source": [
    "query = \"What is AGI\"\n",
    "similarity_docs = vector_store.similarity_search(query, k=3)\n",
    "similarity_docs[0]"
   ]
  },
  {
   "cell_type": "markdown",
   "id": "5bf5ca60",
   "metadata": {},
   "source": [
    "# RAG Pipeline"
   ]
  },
  {
   "cell_type": "code",
   "execution_count": 62,
   "id": "9cca94e9",
   "metadata": {},
   "outputs": [],
   "source": [
    "from langchain_core.documents import Document\n",
    "from langchain_core.runnables import RunnablePassthrough\n",
    "from langchain_core.output_parsers import StrOutputParser"
   ]
  },
  {
   "cell_type": "code",
   "execution_count": 59,
   "id": "3bc0b6f7",
   "metadata": {},
   "outputs": [],
   "source": [
    "def format_docs(docs: Document) -> str:\n",
    "    return \"\\n\\n\".join(doc.page_content for doc in docs)"
   ]
  },
  {
   "cell_type": "code",
   "execution_count": 60,
   "id": "0e510ba7",
   "metadata": {},
   "outputs": [],
   "source": [
    "retriever = vector_store.as_retriever()"
   ]
  },
  {
   "cell_type": "code",
   "execution_count": 64,
   "id": "a6284cca",
   "metadata": {},
   "outputs": [],
   "source": [
    "from langchain_core.prompts import ChatPromptTemplate"
   ]
  },
  {
   "cell_type": "code",
   "execution_count": 65,
   "id": "53101328",
   "metadata": {},
   "outputs": [],
   "source": [
    "system_prompt = \"\"\"You are an assistant for question-answering tasks.\n",
    "Use the following pieces of retrieved context to answer the question\n",
    "If you dont know the answer, just say I dont know\n",
    "Use three sentences maximum and keep the answer concise.\n",
    "Context {context} \n",
    "\"\"\""
   ]
  },
  {
   "cell_type": "code",
   "execution_count": 66,
   "id": "daa3b708",
   "metadata": {},
   "outputs": [],
   "source": [
    "prompt = ChatPromptTemplate.from_messages(\n",
    "    [\n",
    "        (\"system\", system_prompt),\n",
    "        (\"user\", \"{question}\")\n",
    "    ]\n",
    ")"
   ]
  },
  {
   "cell_type": "code",
   "execution_count": 68,
   "id": "dc94717e",
   "metadata": {},
   "outputs": [],
   "source": [
    "rag_chain = (\n",
    "    {\n",
    "        \"context\": retriever | format_docs,\n",
    "        \"question\": RunnablePassthrough()\n",
    "    } \n",
    "    | prompt \n",
    "    | llm \n",
    "    | StrOutputParser()\n",
    ")"
   ]
  },
  {
   "cell_type": "code",
   "execution_count": 69,
   "id": "9dbaacca",
   "metadata": {},
   "outputs": [
    {
     "data": {
      "text/plain": [
       "'Artificial General Intelligence (AGI) is an AI system that can match or surpass the cognitive versatility and proficiency of a well‑educated adult. It must demonstrate both the breadth (versatility across many domains) and depth (high skill level) of human cognition, rather than being limited to narrow, specialized tasks. In short, AGI aims to replicate the full range of human intellectual abilities.'"
      ]
     },
     "execution_count": 69,
     "metadata": {},
     "output_type": "execute_result"
    }
   ],
   "source": [
    "rag_chain.invoke(\"What is AGI?\")"
   ]
  },
  {
   "cell_type": "code",
   "execution_count": 71,
   "id": "643aaf53",
   "metadata": {},
   "outputs": [
    {
     "data": {
      "text/plain": [
       "[Document(metadata={'author': 'Dan Hendrycks; Dawn Song; Christian Szegedy; Honglak Lee; Yarin Gal; Erik Brynjolfsson; Sharon Li; Andy Zou; Lionel Levine; Bo Han; Jie Fu; Ziwei Liu; Jinwoo Shin; Kimin Lee; Mantas Mazeika; Long Phan; George Ingebretsen; Adam Khoja; Cihang Xie; Olawale Salaudeen; Matthias Hein; Kevin Zhao; Alexander Pan; David Duvenaud; Bo Li; Steve Omohundro; Gabriel Alfour; Max Tegmark; Kevin McGrew; Gary Marcus; Jaan Tallinn; Eric Schmidt; Yoshua Bengio', 'ptex.fullbanner': 'This is pdfTeX, Version 3.141592653-2.6-1.40.28 (TeX Live 2025) kpathsea version 6.4.1', 'creationdate': '', 'page_label': '2', 'creator': 'arXiv GenPDF (tex2pdf:e76afa9)', 'producer': 'pikepdf 8.15.1', 'doi': 'https://doi.org/10.48550/arXiv.2510.18212', 'license': 'http://creativecommons.org/licenses/by/4.0/', 'trapped': '/False', 'page': 1, 'total_pages': 57, 'title': 'A Definition of AGI', 'source': '..\\\\..\\\\data\\\\pdf\\\\2510.18212v2.pdf', 'arxivid': 'https://arxiv.org/abs/2510.18212v2'}, page_content='AGI is an AI that can match or exceed the cognitive versatility and proficiency\\nof a well-educated adult.\\nThis definition emphasizes that general intelligence requires not just specialized performance in\\nnarrow domains, but the breadth (versatility) and depth (proficiency) of skills that characterize human\\ncognition.\\nTo operationalize this definition, we must look to the only existing example of general intelligence:\\nhumans. Human cognition is not a monolithic capability; it is a complex'),\n",
       " Document(metadata={'creationdate': '', 'arxivid': 'https://arxiv.org/abs/2510.18212v2', 'producer': 'pikepdf 8.15.1', 'title': 'A Definition of AGI', 'ptex.fullbanner': 'This is pdfTeX, Version 3.141592653-2.6-1.40.28 (TeX Live 2025) kpathsea version 6.4.1', 'page': 0, 'author': 'Dan Hendrycks; Dawn Song; Christian Szegedy; Honglak Lee; Yarin Gal; Erik Brynjolfsson; Sharon Li; Andy Zou; Lionel Levine; Bo Han; Jie Fu; Ziwei Liu; Jinwoo Shin; Kimin Lee; Mantas Mazeika; Long Phan; George Ingebretsen; Adam Khoja; Cihang Xie; Olawale Salaudeen; Matthias Hein; Kevin Zhao; Alexander Pan; David Duvenaud; Bo Li; Steve Omohundro; Gabriel Alfour; Max Tegmark; Kevin McGrew; Gary Marcus; Jaan Tallinn; Eric Schmidt; Yoshua Bengio', 'doi': 'https://doi.org/10.48550/arXiv.2510.18212', 'source': '..\\\\..\\\\data\\\\pdf\\\\2510.18212v2.pdf', 'total_pages': 57, 'creator': 'arXiv GenPDF (tex2pdf:e76afa9)', 'license': 'http://creativecommons.org/licenses/by/4.0/', 'page_label': '1', 'trapped': '/False'}, page_content='hinders discussions about how far AGI is, and ultimately obscures the gap between today’s\\nAI and AGI.\\nThis paper provides a comprehensive, quantifiable framework to cut through the ambiguity. Our\\nframework aims to concretely specify the informal definition:\\narXiv:2510.18212v2  [cs.AI]  23 Oct 2025'),\n",
       " Document(metadata={'creationdate': '', 'ptex.fullbanner': 'This is pdfTeX, Version 3.141592653-2.6-1.40.28 (TeX Live 2025) kpathsea version 6.4.1', 'page': 14, 'author': 'Dan Hendrycks; Dawn Song; Christian Szegedy; Honglak Lee; Yarin Gal; Erik Brynjolfsson; Sharon Li; Andy Zou; Lionel Levine; Bo Han; Jie Fu; Ziwei Liu; Jinwoo Shin; Kimin Lee; Mantas Mazeika; Long Phan; George Ingebretsen; Adam Khoja; Cihang Xie; Olawale Salaudeen; Matthias Hein; Kevin Zhao; Alexander Pan; David Duvenaud; Bo Li; Steve Omohundro; Gabriel Alfour; Max Tegmark; Kevin McGrew; Gary Marcus; Jaan Tallinn; Eric Schmidt; Yoshua Bengio', 'creator': 'arXiv GenPDF (tex2pdf:e76afa9)', 'page_label': '15', 'doi': 'https://doi.org/10.48550/arXiv.2510.18212', 'license': 'http://creativecommons.org/licenses/by/4.0/', 'title': 'A Definition of AGI', 'total_pages': 57, 'source': '..\\\\..\\\\data\\\\pdf\\\\2510.18212v2.pdf', 'arxivid': 'https://arxiv.org/abs/2510.18212v2', 'producer': 'pikepdf 8.15.1', 'trapped': '/False'}, page_content='AI, nor economy-level AI.\\nOpenAI and Microsoft have reportedly considered AGI to be an AI that can generate $100 billion in\\n15'),\n",
       " Document(metadata={'producer': 'pikepdf 8.15.1', 'trapped': '/False', 'creationdate': '', 'title': 'A Definition of AGI', 'total_pages': 57, 'author': 'Dan Hendrycks; Dawn Song; Christian Szegedy; Honglak Lee; Yarin Gal; Erik Brynjolfsson; Sharon Li; Andy Zou; Lionel Levine; Bo Han; Jie Fu; Ziwei Liu; Jinwoo Shin; Kimin Lee; Mantas Mazeika; Long Phan; George Ingebretsen; Adam Khoja; Cihang Xie; Olawale Salaudeen; Matthias Hein; Kevin Zhao; Alexander Pan; David Duvenaud; Bo Li; Steve Omohundro; Gabriel Alfour; Max Tegmark; Kevin McGrew; Gary Marcus; Jaan Tallinn; Eric Schmidt; Yoshua Bengio', 'doi': 'https://doi.org/10.48550/arXiv.2510.18212', 'creator': 'arXiv GenPDF (tex2pdf:e76afa9)', 'page': 0, 'arxivid': 'https://arxiv.org/abs/2510.18212v2', 'page_label': '1', 'license': 'http://creativecommons.org/licenses/by/4.0/', 'source': '..\\\\..\\\\data\\\\pdf\\\\2510.18212v2.pdf', 'ptex.fullbanner': 'This is pdfTeX, Version 3.141592653-2.6-1.40.28 (TeX Live 2025) kpathsea version 6.4.1'}, page_content='and the substantial gap remaining\\nbefore AGI.\\n1 Introduction\\nArtificial General Intelligence (AGI) may become the most significant technological development\\nin human history, yet the term itself remains frustratingly nebulous, acting as a constantly moving\\ngoalpost. As specialized AI systems master tasks once thought to require human intellect—from\\nmathematics to art—the criteria for “AGI” continually shift. This ambiguity fuels unproductive\\ndebates, hinders discussions about how far AGI is,')]"
      ]
     },
     "execution_count": 71,
     "metadata": {},
     "output_type": "execute_result"
    }
   ],
   "source": [
    "retriever._get_relevant_documents(\"What is AGI\", run_manager=None)"
   ]
  },
  {
   "cell_type": "code",
   "execution_count": 74,
   "id": "0c24e8a4",
   "metadata": {},
   "outputs": [],
   "source": [
    "def query_rag(question):\n",
    "    print(f\"User: {question}\")\n",
    "    print(\"-\"*30)\n",
    "    docs = retriever._get_relevant_documents(question, run_manager=None)\n",
    "    for doc in docs:\n",
    "        print(doc.page_content)\n",
    "        print(\"-\"*30)\n",
    "    res = rag_chain.invoke(question)\n",
    "    print(f\"Answer: {res}\")"
   ]
  },
  {
   "cell_type": "code",
   "execution_count": 77,
   "id": "a995e680",
   "metadata": {},
   "outputs": [
    {
     "name": "stdout",
     "output_type": "stream",
     "text": [
      "User: abilities Needed for AGI\n",
      "------------------------------\n",
      "AGI is an AI that can match or exceed the cognitive versatility and proficiency\n",
      "of a well-educated adult.\n",
      "This definition emphasizes that general intelligence requires not just specialized performance in\n",
      "narrow domains, but the breadth (versatility) and depth (proficiency) of skills that characterize human\n",
      "cognition.\n",
      "To operationalize this definition, we must look to the only existing example of general intelligence:\n",
      "humans. Human cognition is not a monolithic capability; it is a complex\n",
      "------------------------------\n",
      "We leave economic\n",
      "measurements of advanced AI to other work. Last, we deliberately focus on core cognitive capabilities\n",
      "rather than physical abilities such as motor skills or tactile sensing, as we seek to measure the\n",
      "capabilities of the mind rather than the quality of its actuators or sensors. We discuss more limitations\n",
      "in the Discussion.\n",
      "2 Overview of Abilities Needed for AGI\n",
      "This document outlines a framework for evaluating Artificial General Intelligence (AGI) by adopting\n",
      "and adapting the\n",
      "------------------------------\n",
      "hinders discussions about how far AGI is, and ultimately obscures the gap between today’s\n",
      "AI and AGI.\n",
      "This paper provides a comprehensive, quantifiable framework to cut through the ambiguity. Our\n",
      "framework aims to concretely specify the informal definition:\n",
      "arXiv:2510.18212v2  [cs.AI]  23 Oct 2025\n",
      "------------------------------\n",
      "a high overall score. Therefore, we recommend reporting the\n",
      "AI system’s cognitive profile and not just its AGI Score.\n",
      "Definitions of Related Concepts.Some types of strategically relevant AI can arrive before or after\n",
      "AGI. As follows are some particularly noteworthy types of AI:\n",
      "1. Pandemic AIis an AI that can engineer and produce new, infectious, and virulent pathogens\n",
      "that could cause a pandemic (Li et al., 2024; Götting et al., 2025).\n",
      "2. Cyberwarfare AIis an AI that can design and execute\n",
      "------------------------------\n",
      "Answer: The framework identifies core cognitive capabilities—such as reasoning, learning, planning, language understanding, and abstract problem‑solving—as essential for AGI, emphasizing both breadth (versatility across many domains) and depth (human‑level proficiency). It deliberately excludes physical abilities like motor skills, focusing instead on the mind’s intellectual functions. A system’s overall AGI score should reflect its cognitive profile across these abilities.\n"
     ]
    }
   ],
   "source": [
    "query_rag(\"abilities Needed for AGI\")"
   ]
  }
 ],
 "metadata": {
  "kernelspec": {
   "display_name": "backend",
   "language": "python",
   "name": "python3"
  },
  "language_info": {
   "codemirror_mode": {
    "name": "ipython",
    "version": 3
   },
   "file_extension": ".py",
   "mimetype": "text/x-python",
   "name": "python",
   "nbconvert_exporter": "python",
   "pygments_lexer": "ipython3",
   "version": "3.13.5"
  }
 },
 "nbformat": 4,
 "nbformat_minor": 5
}
